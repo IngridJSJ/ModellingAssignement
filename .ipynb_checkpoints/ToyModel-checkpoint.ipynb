{
 "cells": [
  {
   "cell_type": "markdown",
   "metadata": {},
   "source": [
    "### Import linear programming toolbox"
   ]
  },
  {
   "cell_type": "code",
   "execution_count": 1,
   "metadata": {},
   "outputs": [],
   "source": [
    "from scipy.optimize import linprog"
   ]
  },
  {
   "cell_type": "code",
   "execution_count": 2,
   "metadata": {},
   "outputs": [],
   "source": [
    "import numpy as np"
   ]
  },
  {
   "cell_type": "code",
   "execution_count": 3,
   "metadata": {},
   "outputs": [],
   "source": [
    "import pandas as pd"
   ]
  },
  {
   "cell_type": "code",
   "execution_count": 4,
   "metadata": {},
   "outputs": [],
   "source": [
    "# from numpy import genfromtxt\n",
    "# c = genfromtxt('variables/PV_total_cost.csv', delimiter=',')\n",
    "# A = genfromtxt('variables/Aineq.csv', delimiter=',')\n",
    "# b = genfromtxt('variables/bineq.csv', delimiter=',')\n",
    "# Aeq = genfromtxt('variables/Aeq.csv', delimiter=',')\n",
    "# beq = genfromtxt('variables/beq.csv', delimiter=',')"
   ]
  },
  {
   "cell_type": "markdown",
   "metadata": {},
   "source": [
    "### Define model variables"
   ]
  },
  {
   "cell_type": "code",
   "execution_count": 5,
   "metadata": {},
   "outputs": [],
   "source": [
    "# List of technologies\n",
    "Techn=['Nuclear','Hydro','Solar PV','Wind','Biomass','Gas']\n",
    "No_techn=len(Techn)\n",
    " \n",
    "# Time slices\n",
    "Slices=[2007, 2008, 2009, 2010, 2011, 2012, 2013, 2014, 2015, 2016, 2017]\n",
    "No_slices=len(Slices)\n",
    " \n",
    "# Variables\n",
    "# NOTE: The variable is a vector, not a matrix\n",
    "#\n",
    "#       Produced electricity  Total installed     Total newly             Total closed \n",
    "#       amount, GWh/year      capacity in the     installed capacity      capacity in the\n",
    "#                             specific year, MW   in the specific year    specific year (does\n",
    "#                                                 (produces already), MW  not produce anymore), MW\n",
    "#         Tech1  Tech2 ...    Tech1   Tech2  ...  Tech1   Tech2  ...      Tech1   Tech2  ...            \n",
    "# 2007 x=[x1     x2    ...    x7      ...    ...  x13     ...    ...      x19     ...    ...       \n",
    "# 2008    x25                 x31                 x37                     x43                        \n",
    "# 2009    x49 ... \n",
    " \n",
    "# Variable size\n",
    "No_var=4*No_techn*No_slices"
   ]
  },
  {
   "cell_type": "markdown",
   "metadata": {},
   "source": [
    "### Total supply demand"
   ]
  },
  {
   "cell_type": "code",
   "execution_count": 6,
   "metadata": {},
   "outputs": [],
   "source": [
    "# Total electricity supplied (generation), GWh/year\n",
    "#           2007  2008  ...\n",
    "ElSupplied=[3381, 3414, 3272, 3601, 3658, 3582, 3614, 3592, 3712, 3700, 3680]"
   ]
  },
  {
   "cell_type": "markdown",
   "metadata": {},
   "source": [
    "### Technology Data"
   ]
  },
  {
   "cell_type": "code",
   "execution_count": 7,
   "metadata": {},
   "outputs": [],
   "source": [
    "# Maximum varying load factor (capacity factor x availability factor), \n",
    "# used to calculate the maximum amount of annually generated electricity \n",
    "# Constant load factor (for renewables) should be accounted here with a \n",
    "# narrow difference between LF_max and LF_min\n",
    "#       Nuc   Hy    PV    Wind  Bio   Gas\n",
    "LF_max=[0.90, 0.45, 0.12, 0.25, 0.80, 1.00, #2007\n",
    "        0.90, 0.45, 0.12, 0.25, 0.80, 1.00, #2008\n",
    "        0.90, 0.45, 0.12, 0.25, 0.80, 1.00, #2009\n",
    "        0.90, 0.45, 0.12, 0.25, 0.80, 1.00, #2010\n",
    "        0.90, 0.45, 0.12, 0.25, 0.80, 1.00, #2011\n",
    "        0.90, 0.45, 0.12, 0.25, 0.80, 1.00, #2012\n",
    "        0.90, 0.45, 0.12, 0.25, 0.80, 1.00, #2013\n",
    "        0.90, 0.45, 0.12, 0.25, 0.80, 1.00, #2014\n",
    "        0.90, 0.45, 0.12, 0.25, 0.80, 1.00, #2015\n",
    "        0.90, 0.45, 0.12, 0.25, 0.80, 1.00, #2016\n",
    "        0.90, 0.45, 0.12, 0.25, 0.80, 1.00] #2017"
   ]
  },
  {
   "cell_type": "code",
   "execution_count": 8,
   "metadata": {},
   "outputs": [],
   "source": [
    "# Minimum varying load factor (capacity factor x availability factor), \n",
    "# used to calculate the minimum amount of annually generated electricity \n",
    "# Constant load factor (for renewables) should be accounted here with a narrow different between LF_max and LF_min\n",
    "#       Nuc  Hy   PV   Wind Bio  Gas\n",
    "LF_min=[0.30, 0.20, 0.10, 0.20, 0.70, 0.00, #2007\n",
    "        0.30, 0.20, 0.10, 0.20, 0.70, 0.00, #2008\n",
    "        0.30, 0.20, 0.10, 0.20, 0.70, 0.00, #2009\n",
    "        0.30, 0.20, 0.10, 0.20, 0.70, 0.00, #2010\n",
    "        0.30, 0.20, 0.10, 0.20, 0.70, 0.00, #2011\n",
    "        0.30, 0.20, 0.10, 0.20, 0.70, 0.00, #2012\n",
    "        0.30, 0.20, 0.10, 0.20, 0.70, 0.00, #2013\n",
    "        0.30, 0.20, 0.10, 0.20, 0.70, 0.00, #2014\n",
    "        0.30, 0.20, 0.10, 0.20, 0.70, 0.00, #2015\n",
    "        0.30, 0.20, 0.10, 0.20, 0.70, 0.00, #2016\n",
    "        0.30, 0.20, 0.10, 0.20, 0.70, 0.00] #2017"
   ]
  },
  {
   "cell_type": "code",
   "execution_count": 9,
   "metadata": {},
   "outputs": [],
   "source": [
    "# Own electrcity use, in %\n",
    "#        Nuc   Hy    PV    Wind  Bio   Gas\n",
    "Own_use=[5.00, 2.00, 0.00, 0.00, 5.00, 5.00, #2007\n",
    "         5.00, 2.00, 0.00, 0.00, 5.00, 5.00, #2008\n",
    "         5.00, 2.00, 0.00, 0.00, 5.00, 5.00, #2009\n",
    "         5.00, 2.00, 0.00, 0.00, 5.00, 5.00, #2010\n",
    "         5.00, 2.00, 0.00, 0.00, 5.00, 5.00, #2011\n",
    "         5.00, 2.00, 0.00, 0.00, 5.00, 5.00, #2012\n",
    "         5.00, 2.00, 0.00, 0.00, 5.00, 5.00, #2013\n",
    "         5.00, 2.00, 0.00, 0.00, 5.00, 5.00, #2014\n",
    "         5.00, 2.00, 0.00, 0.00, 5.00, 5.00, #2015\n",
    "         5.00, 2.00, 0.00, 0.00, 5.00, 5.00, #2016\n",
    "         5.00, 2.00, 0.00, 0.00, 5.00, 5.00] #2017"
   ]
  },
  {
   "cell_type": "code",
   "execution_count": 10,
   "metadata": {},
   "outputs": [],
   "source": [
    "# Technology-specific maximum build rates, in MW per year    \n",
    "#           Nuc  Hy   PV    Wind  Bio   Gas\n",
    "Buildrates=[0.0, 0.0, 40.0, 40.0, 20.0, 20.0, #2007\n",
    "            0.0, 0.0, 40.0, 40.0, 20.0, 20.0, #2008\n",
    "            0.0, 0.0, 40.0, 40.0, 20.0, 20.0, #2009\n",
    "            0.0, 0.0, 40.0, 40.0, 20.0, 20.0, #2010\n",
    "            0.0, 0.0, 40.0, 40.0, 20.0, 20.0, #2011\n",
    "            0.0, 0.0, 40.0, 40.0, 20.0, 20.0, #2012\n",
    "            0.0, 0.0, 40.0, 40.0, 20.0, 20.0, #2013\n",
    "            0.0, 0.0, 40.0, 40.0, 20.0, 20.0, #2014\n",
    "            0.0, 0.0, 40.0, 40.0, 20.0, 20.0, #2015\n",
    "            0.0, 0.0, 40.0, 40.0, 20.0, 20.0, #2016\n",
    "            0.0, 0.0, 40.0, 40.0, 20.0, 20.0] #2017"
   ]
  },
  {
   "cell_type": "code",
   "execution_count": 11,
   "metadata": {},
   "outputs": [],
   "source": [
    "# Technology lifetime in years\n",
    "#         Nuc Hy  PV Wind Bio Gas\n",
    "Lifetime=[60, 60, 25, 25, 25, 30]"
   ]
  },
  {
   "cell_type": "code",
   "execution_count": 12,
   "metadata": {},
   "outputs": [],
   "source": [
    "# Maximum in terms of annual electricity generation, GWh/year\n",
    "#              Nuc     Hy       PV       Wind    Bio    Gas\n",
    "Potential_GWh=[1000.0, 2520.00, 1000.00, 1000.0, 230.0, 500.0, #2007\n",
    "               1000.0, 2520.00, 1000.00, 1000.0, 230.0, 500.0, #2008\n",
    "               1000.0, 2520.00, 1000.00, 1000.0, 230.0, 500.0, #2009\n",
    "               1000.0, 2520.00, 1000.00, 1000.0, 230.0, 500.0, #2010\n",
    "               1000.0, 2520.00, 1000.00, 1000.0, 230.0, 500.0, #2011\n",
    "               1000.0, 2520.00, 1000.00, 1000.0, 230.0, 500.0, #2012\n",
    "               1000.0, 2520.00, 1000.00, 1000.0, 230.0, 500.0, #2013\n",
    "               1000.0, 2520.00, 1000.00, 1000.0, 230.0, 500.0, #2014\n",
    "               1000.0, 2520.00, 1000.00, 1000.0, 230.0, 500.0, #2015\n",
    "               1000.0, 2520.00, 1000.00, 1000.0, 230.0, 500.0, #2016\n",
    "               1000.0, 2520.00, 1000.00, 1000.0, 230.0, 500.0] #2017   "
   ]
  },
  {
   "cell_type": "code",
   "execution_count": 13,
   "metadata": {},
   "outputs": [],
   "source": [
    "# Initially installed capacity in the year 2007, MW\n",
    "#                 Nuc    Hy     PV   Wind Bio  Gas\n",
    "Initial_capacity=[150.0, 800.0, 0.0, 0.0, 0.0, 0.0] "
   ]
  },
  {
   "cell_type": "code",
   "execution_count": 14,
   "metadata": {},
   "outputs": [],
   "source": [
    "# Generated electricity in 2007, GWh/year.\n",
    "#                   Nuc     Hy      PV   Wind Bio  Gas \n",
    "Initial_generation=[1000.0, 2381.0, 0.0, 0.0, 0.0, 0.0] "
   ]
  },
  {
   "cell_type": "code",
   "execution_count": 15,
   "metadata": {},
   "outputs": [],
   "source": [
    "# Control for the intial year\n",
    "if sum(Initial_generation) < ElSupplied[0]:\n",
    "    print('Assumed generated electricity in 2007 is lower than supplied electricity requirement')"
   ]
  },
  {
   "cell_type": "code",
   "execution_count": 16,
   "metadata": {},
   "outputs": [],
   "source": [
    "# The retirement of the initial capacity from 2010 in % of the initial capacity\n",
    "# NOTE: Retirement in 2007 is zero. The sum across the time slices should be 100. \n",
    "#                   Nuc Hy  PV  Wind Bio Gas\n",
    "Retirement_initial=[00.0, 00.0, 00.0, 00.0, 00.0, 00.0, #2007\n",
    "                    00.0, 00.0, 00.0, 00.0, 00.0, 00.0, #2008\n",
    "                    00.0, 00.0, 00.0, 00.0, 00.0, 00.0, #2009\n",
    "                    10.0, 00.0, 00.0, 00.0, 00.0, 00.0, #2010\n",
    "                    10.0, 00.0, 00.0, 00.0, 00.0, 00.0, #2011\n",
    "                    10.0, 00.0, 00.0, 00.0, 00.0, 00.0, #2012\n",
    "                    10.0, 00.0, 00.0, 00.0, 00.0, 00.0, #2013\n",
    "                    20.0, 00.0, 00.0, 00.0, 00.0, 00.0, #2014\n",
    "                    20.0, 00.0, 00.0, 00.0, 00.0, 00.0, #2015\n",
    "                    20.0, 00.0, 00.0, 00.0, 00.0, 00.0, #2016\n",
    "                    00.0, 00.0, 00.0, 00.0, 00.0, 00.0] #2017  "
   ]
  },
  {
   "cell_type": "code",
   "execution_count": 17,
   "metadata": {},
   "outputs": [],
   "source": [
    "# Fuel use efficiency (for calculation of fuel costs)\n",
    "#                Nuc   Hy    PV    Wind  Bio   Gas\n",
    "Fuel_efficiency=[0.35, 1.00, 1.00, 1.00, 0.35, 0.50, #2007\n",
    "                 0.35, 1.00, 1.00, 1.00, 0.35, 0.50, #2008\n",
    "                 0.35, 1.00, 1.00, 1.00, 0.35, 0.50, #2009\n",
    "                 0.35, 1.00, 1.00, 1.00, 0.35, 0.50, #2010\n",
    "                 0.35, 1.00, 1.00, 1.00, 0.35, 0.50, #2011\n",
    "                 0.35, 1.00, 1.00, 1.00, 0.35, 0.50, #2012\n",
    "                 0.35, 1.00, 1.00, 1.00, 0.35, 0.50, #2013\n",
    "                 0.35, 1.00, 1.00, 1.00, 0.35, 0.50, #2014\n",
    "                 0.35, 1.00, 1.00, 1.00, 0.35, 0.50, #2015\n",
    "                 0.35, 1.00, 1.00, 1.00, 0.35, 0.50, #2016\n",
    "                 0.35, 1.00, 1.00, 1.00, 0.35, 0.50] #2017  "
   ]
  },
  {
   "cell_type": "markdown",
   "metadata": {},
   "source": [
    "### Optimization constraints - equalities"
   ]
  },
  {
   "cell_type": "code",
   "execution_count": 18,
   "metadata": {},
   "outputs": [],
   "source": [
    "# Supplied electricity balance: \n",
    "# Supplied electricity=produced electricity-electricity for own use\n",
    "\n",
    "Aeq_Supplied=np.zeros((No_slices-1, No_var)) # Baseload\n",
    "\n",
    "for j in range(2,No_slices+1): # from the second year because the initial year data is given\n",
    "    for i in range(1,No_techn+1):\n",
    "        Aeq_Supplied[(j-1)-1,(j-1)*No_techn*4+i-1]=1-Own_use[(j-1)*No_techn+i-1]/100\n",
    "\n",
    "beq_Supplied = np.array(ElSupplied[1:], ndmin=2)"
   ]
  },
  {
   "cell_type": "code",
   "execution_count": 19,
   "metadata": {},
   "outputs": [],
   "source": [
    "# np.savetxt(\"Aeq_Supplied.csv\", Aeq_Supplied, delimiter=\",\")"
   ]
  },
  {
   "cell_type": "code",
   "execution_count": 20,
   "metadata": {},
   "outputs": [],
   "source": [
    "# Generated electricity balance for the initial year\n",
    "\n",
    "Aeq_Generation_initial=np.zeros((No_techn,No_var))\n",
    "\n",
    "for i in range(1,No_techn+1):\n",
    "    Aeq_Generation_initial[i-1,i-1]=1\n",
    "\n",
    "beq_Generation_initial=np.array(Initial_generation, ndmin=2)"
   ]
  },
  {
   "cell_type": "code",
   "execution_count": 21,
   "metadata": {},
   "outputs": [],
   "source": [
    "# Capacity in the initial year\n",
    "\n",
    "Aeq_Capacity_initial=np.zeros((No_techn,No_var))\n",
    "\n",
    "for i in range(1,No_techn+1):\n",
    "    Aeq_Capacity_initial[i-1,(No_techn+i)-1]=1\n",
    "    \n",
    "beq_Capacity_initial=np.array(Initial_capacity, ndmin=2)"
   ]
  },
  {
   "cell_type": "code",
   "execution_count": 22,
   "metadata": {},
   "outputs": [],
   "source": [
    "# np.savetxt(\"Aeq_Capacity_initial.csv\", Aeq_Capacity_initial, delimiter=\",\")"
   ]
  },
  {
   "cell_type": "code",
   "execution_count": 23,
   "metadata": {},
   "outputs": [],
   "source": [
    "# In the first year the newly installed and closed capacity should be zero\n",
    "\n",
    "Aeq_initialzero=np.zeros((2*No_techn, No_var))\n",
    "\n",
    "for i in range(1,2*No_techn+1):\n",
    "    Aeq_initialzero[i-1,(2*No_techn+i)-1]=1\n",
    "\n",
    "beq_initialzero=np.zeros((2*No_techn,1))"
   ]
  },
  {
   "cell_type": "code",
   "execution_count": 24,
   "metadata": {},
   "outputs": [],
   "source": [
    "# np.savetxt(\"Aeq_initialzero.csv\", Aeq_initialzero, delimiter=\",\")"
   ]
  },
  {
   "cell_type": "code",
   "execution_count": 25,
   "metadata": {},
   "outputs": [],
   "source": [
    "# Capacity retirement due to lifetime and retirement of the initial capacity: \n",
    "# Total closed in year N - Total installed in year (N-lifetime) - Retirement rate*(Total capacity in initial year)=0\n",
    "\n",
    "Aeq_closed_lifetime=np.zeros(((No_slices-1)*No_techn,No_var))\n",
    "\n",
    "g=1\n",
    "\n",
    "# for all the time slices starting from the second time slices\n",
    "for j in range(2,No_slices+1):\n",
    "    for i in range(1,No_techn+1):\n",
    "        \n",
    "        # Variable whose closed capacity is being evaluated\n",
    "        Aeq_closed_lifetime[g-1,((j-1)*No_techn*4+i+No_techn*3)-1] = 1\n",
    "        \n",
    "        # Retirement of initial capacity, \n",
    "        # equal to installed capacity in the initial year times retirement percentage\n",
    "        Aeq_closed_lifetime[g-1,(No_techn*1+i)-1] = -1*Retirement_initial[(j-1)*No_techn+i-1]/100\n",
    "        \n",
    "        # Capacity that is closed due to retirement. \n",
    "        # It is equal to installed capacity in the year that this capacity was installed.\n",
    "        # But this should not be applicable to the initial year as it is already accounted for.\n",
    "        if Lifetime[i-1] <= (j-1-1):\n",
    "            Aeq_closed_lifetime[g-1,((j-1)*No_techn*4+i+No_techn*2-No_techn*4*Lifetime[i-1])-1] = -1\n",
    "\n",
    "        g=g+1\n",
    "\n",
    "beq_closed_lifetime=np.zeros(((g-1),1))"
   ]
  },
  {
   "cell_type": "code",
   "execution_count": 26,
   "metadata": {},
   "outputs": [],
   "source": [
    "# np.savetxt(\"Aeq_closed_lifetime.csv\", Aeq_closed_lifetime, delimiter=\",\")"
   ]
  },
  {
   "cell_type": "code",
   "execution_count": 27,
   "metadata": {},
   "outputs": [],
   "source": [
    "# Capacity transfer between years, \n",
    "# i.e. balance between the capacity the year before, new capacity and closed capacity\n",
    "\n",
    "Aeq_capacity_transfer=np.zeros(((No_slices-1)*No_techn,No_var))\n",
    "\n",
    "g=1\n",
    "\n",
    "# for all the time slices starting from the second time slices\n",
    "for j in range(2,No_slices+1):\n",
    "    for i in range(1,No_techn+1):\n",
    "        Aeq_capacity_transfer[g-1,((j-1)*No_techn*4+i+No_techn*1)-1] = -1 # total capacity in the year analysed\n",
    "        Aeq_capacity_transfer[g-1,((j-2)*No_techn*4+i+No_techn*1)-1] = 1  # total capacity the year before     \n",
    "        Aeq_capacity_transfer[g-1,((j-1)*No_techn*4+i+No_techn*2)-1] = 1  # newly installed capacity\n",
    "        Aeq_capacity_transfer[g-1,((j-1)*No_techn*4+i+No_techn*3)-1] = -1 # closed capapcity\n",
    "        g=g+1\n",
    "\n",
    "beq_capacity_transfer=np.zeros(((g-1),1))"
   ]
  },
  {
   "cell_type": "code",
   "execution_count": 28,
   "metadata": {},
   "outputs": [],
   "source": [
    "# All the equality constraints\n",
    "Aeq = np.vstack((Aeq_Supplied, \n",
    "                 Aeq_Generation_initial,\n",
    "                 Aeq_Capacity_initial,\n",
    "                 Aeq_initialzero,\n",
    "                 Aeq_closed_lifetime,\n",
    "                 Aeq_capacity_transfer\n",
    "                ))\n",
    "beq = np.vstack((beq_Supplied.T,\n",
    "                 beq_Generation_initial.T,\n",
    "                 beq_Capacity_initial.T,\n",
    "                 beq_initialzero,\n",
    "                 beq_closed_lifetime,\n",
    "                 beq_capacity_transfer\n",
    "                ))"
   ]
  },
  {
   "cell_type": "markdown",
   "metadata": {},
   "source": [
    "### Optimization constraints - inequalities"
   ]
  },
  {
   "cell_type": "code",
   "execution_count": 29,
   "metadata": {},
   "outputs": [],
   "source": [
    "# The amount of produced electricity should not exceed the installed capacity times the maximum load factor\n",
    "\n",
    "Aineq_maxLF = np.zeros(((No_slices-1)*No_techn,No_var))\n",
    "\n",
    "g = 1\n",
    "\n",
    "# Starting from the second year\n",
    "for j in range(2,No_slices+1):\n",
    "    for i in range(1,No_techn+1):\n",
    "        if np.isnan(LF_max[(j-1)*No_techn+i-1]) < 1:\n",
    "            Aineq_maxLF[g-1,((j-1)*No_techn*4+i)-1] = 1\n",
    "            Aineq_maxLF[g-1,((j-1)*No_techn*4+i+No_techn*1)-1] = -LF_max[(j-1)*No_techn+i-1]*8760/1000\n",
    "        \n",
    "        g = g + 1\n",
    "        \n",
    "bineq_maxLF = np.zeros(((g-1),1))"
   ]
  },
  {
   "cell_type": "code",
   "execution_count": 30,
   "metadata": {},
   "outputs": [],
   "source": [
    "# The amount of produced electricity should not be lower the installed capacity times the minimum load factor\n",
    "\n",
    "Aineq_minLF = np.zeros(((No_slices-1)*No_techn,No_var))\n",
    "\n",
    "g=1\n",
    "\n",
    "# Starting from the second year\n",
    "for j in range(2,No_slices+1):\n",
    "    for i in range(1,No_techn+1):\n",
    "        if np.isnan(LF_min[(j-1)*No_techn+i-1]) < 1:\n",
    "            \n",
    "            Aineq_minLF[g-1,((j-1)*No_techn*4+i)-1] = -1\n",
    "            Aineq_minLF[g-1,((j-1)*No_techn*4+i+No_techn*1)-1] = LF_min[(j-1)*No_techn+i-1]*8760/1000\n",
    "            \n",
    "        g = g + 1\n",
    "        \n",
    "bineq_minLF = np.zeros(((g-1),1))"
   ]
  },
  {
   "cell_type": "code",
   "execution_count": 31,
   "metadata": {},
   "outputs": [],
   "source": [
    "# Build rates - the newly installed capacity should not exceed the maximum technology-specific build rates\n",
    "\n",
    "Aineq_buildrates = np.zeros(((No_techn*(No_slices-1)),No_var))\n",
    "bineq_buildrates = np.zeros(((No_techn*(No_slices-1)),1))\n",
    "\n",
    "g = 1\n",
    "\n",
    "for i in range(1,No_techn+1):\n",
    "    for j in range(2,No_slices+1): # starting from the second year\n",
    "        \n",
    "        Aineq_buildrates[g-1,((j-1)*No_techn*4+i+No_techn*2)-1] = 1\n",
    "        bineq_buildrates[g-1] = Buildrates[(j-1)*No_techn+i-1]\n",
    "        \n",
    "        g=g+1"
   ]
  },
  {
   "cell_type": "code",
   "execution_count": 32,
   "metadata": {},
   "outputs": [],
   "source": [
    "# Maximum potential in terms of annual electricity \n",
    "\n",
    "Aineq_potential_GWh = np.zeros(((No_techn*(No_slices-1)),No_var))\n",
    "bineq_potential_GWh = np.zeros((1,(No_techn*(No_slices-1))))\n",
    "\n",
    "g=1\n",
    "\n",
    "for j in range(2,No_slices+1): #from the second time slice\n",
    "    for i in range(1,No_techn+1):\n",
    "        if np.isnan(Potential_GWh[(j-1)*No_techn+i-1]) < 1:\n",
    "            Aineq_potential_GWh[g-1,(j-1)*No_techn*4+i-1] = 1\n",
    "            bineq_potential_GWh[0,g-1] = Potential_GWh[(j-1)*No_techn+i-1]\n",
    "            g=g+1\n"
   ]
  },
  {
   "cell_type": "code",
   "execution_count": 33,
   "metadata": {},
   "outputs": [],
   "source": [
    "# All the inequality constraints\n",
    "Aineq = np.vstack((Aineq_maxLF, \n",
    "                 Aineq_minLF,\n",
    "                 Aineq_buildrates,\n",
    "                 Aineq_potential_GWh\n",
    "                ))\n",
    "\n",
    "bineq = np.vstack((bineq_maxLF, \n",
    "                 bineq_minLF,\n",
    "                 bineq_buildrates,\n",
    "                 bineq_potential_GWh.T\n",
    "                ))"
   ]
  },
  {
   "cell_type": "code",
   "execution_count": 34,
   "metadata": {},
   "outputs": [],
   "source": [
    "# Lower and upper bounds (ensure electricity generation is not negative)\n",
    "bb = []\n",
    "for i in range(264):\n",
    "    bb.append((0, None))"
   ]
  },
  {
   "cell_type": "markdown",
   "metadata": {},
   "source": [
    "### Cost data"
   ]
  },
  {
   "cell_type": "code",
   "execution_count": 35,
   "metadata": {},
   "outputs": [],
   "source": [
    "# Undiscounted investment cost, kCHF/MW\n",
    "#     Nuc      Hy        PV        Wind     Bio       Gas\n",
    "Inv=[6000.0,  3000.0,   1500.0,   1500.0,   2500.0,   1000.00, #2007\n",
    "     6000.0,  3000.0,   1500.0,   1500.0,   2500.0,   1000.00, #2008\n",
    "     6000.0,  3000.0,   1500.0,   1500.0,   2500.0,   1000.00, #2009\n",
    "     6000.0,  3000.0,   1500.0,   1500.0,   2500.0,   1000.00, #2010\n",
    "     6000.0,  3000.0,   1500.0,   1500.0,   2500.0,   1000.00, #2011\n",
    "     6000.0,  3000.0,   1500.0,   1500.0,   2500.0,   1000.00, #2012\n",
    "     6000.0,  3000.0,   1500.0,   1500.0,   2500.0,   1000.00, #2013\n",
    "     6000.0,  3000.0,   1500.0,   1500.0,   2500.0,   1000.00, #2014\n",
    "     6000.0,  3000.0,   1500.0,   1500.0,   2500.0,   1000.00, #2015\n",
    "     6000.0,  3000.0,   1500.0,   1500.0,   2500.0,   1000.00, #2016\n",
    "     6000.0,  3000.0,   1500.0,   1500.0,   2500.0,   1000.00] #2017           \n",
    "\n",
    "Inv_cor = np.zeros((1,No_var))\n",
    "\n",
    "for j in range(1,No_slices+1):\n",
    "    for i in range(1,No_techn+1):\n",
    "        Inv_cor[0,(j-1)*No_techn*4+i+No_techn*2-1] = Inv[(j-1)*No_techn+i-1]\n"
   ]
  },
  {
   "cell_type": "code",
   "execution_count": 36,
   "metadata": {},
   "outputs": [],
   "source": [
    "# Undiscounted fixed O&M cost, kCHF/(MW*year)\n",
    "#                Nuc    Hy    PV  Wind Bio  Gas\n",
    "Fixed_OM_annual=[100,   33,   5,  30,  60,  30, #2007\n",
    "                 100,   33,   5,  30,  60,  30, #2008\n",
    "                 100,   33,   5,  30,  60,  30, #2009\n",
    "                 100,   33,   5,  30,  60,  30, #2010\n",
    "                 100,   33,   5,  30,  60,  30, #2011\n",
    "                 100,   33,   5,  30,  60,  30, #2012\n",
    "                 100,   33,   5,  30,  60,  30, #2013\n",
    "                 100,   33,   5,  30,  60,  30, #2014\n",
    "                 100,   33,   5,  30,  60,  30, #2015\n",
    "                 100,   33,   5,  30,  60,  30, #2016\n",
    "                 100,   33,   5,  30,  60,  30] #2017    \n",
    "\n",
    "Fixed_OM_annual_cor = np.zeros((1,No_var))\n",
    "\n",
    "for j in range(1,No_slices+1):\n",
    "    for i in range(1,No_techn+1):\n",
    "        Fixed_OM_annual_cor[0,(j-1)*No_techn*4+i+No_techn*1-1] = Fixed_OM_annual[(j-1)*No_techn+i-1]\n",
    "        \n",
    "Fixed_OM = Fixed_OM_annual_cor"
   ]
  },
  {
   "cell_type": "code",
   "execution_count": 37,
   "metadata": {},
   "outputs": [],
   "source": [
    "# Undiscounted variable O&M cost, kCHF/GWh of generated electricity (not accounting for the efficiency)\n",
    "#            Nuc Hy PV Wind Bio Gas\n",
    "Variable_OM=[10,  3,  0,  0,  4,  4, #2007\n",
    "             10,  3,  0,  0,  4,  4, #2008\n",
    "             10,  3,  0,  0,  4,  4, #2009\n",
    "             10,  3,  0,  0,  4,  4, #2010\n",
    "             10,  3,  0,  0,  4,  4, #2011\n",
    "             10,  3,  0,  0,  4,  4, #2012\n",
    "             10,  3,  0,  0,  4,  4, #2013\n",
    "             10,  3,  0,  0,  4,  4, #2014\n",
    "             10,  3,  0,  0,  4,  4, #2015\n",
    "             10,  3,  0,  0,  4,  4, #2016\n",
    "             10,  3,  0,  0,  4,  4] #2017\n",
    "\n",
    "Variable_OM_cor  = np.zeros((1,No_var))\n",
    "\n",
    "for j in range(1,No_slices+1):\n",
    "    for i in range(1,No_techn+1):\n",
    "        Variable_OM_cor[0,(j-1)*No_techn*4+i-1] = Variable_OM[(j-1)*No_techn+i-1]\n"
   ]
  },
  {
   "cell_type": "code",
   "execution_count": 38,
   "metadata": {},
   "outputs": [],
   "source": [
    "# Undiscounted fuel cost, kCHF/GWh of fuel used  \n",
    "#              Nuc   Hy   PV   Wind Bio Gas\n",
    "Fuel_cost_fuel=[3,   0,   0,   0,   7,  30, #2007\n",
    "                3,   0,   0,   0,   7,  30, #2008\n",
    "                3,   0,   0,   0,   7,  30, #2009\n",
    "                3,   0,   0,   0,   7,  30, #2010\n",
    "                3,   0,   0,   0,   7,  30, #2011\n",
    "                3,   0,   0,   0,   7,  30, #2012\n",
    "                3,   0,   0,   0,   7,  30, #2013\n",
    "                3,   0,   0,   0,   7,  30, #2014\n",
    "                3,   0,   0,   0,   7,  30, #2015\n",
    "                3,   0,   0,   0,   7,  30, #2016\n",
    "                3,   0,   0,   0,   7,  30] #2017                 \n",
    "\n",
    "Fuel_cost = np.zeros((1,len(Fuel_cost_fuel)))\n",
    "\n",
    "for j in range(1,No_slices+1):\n",
    "    for i in range(1,No_techn+1):\n",
    "        Fuel_cost[0,(j-1)*No_techn+i-1] = Fuel_cost_fuel[(j-1)*No_techn+i-1]/Fuel_efficiency[(j-1)*No_techn+i-1]\n",
    "\n",
    "Fuel_cost_cor = np.zeros((1,No_var))\n",
    "\n",
    "for j in range(1,No_slices+1):\n",
    "    for i in range(1,No_techn+1):\n",
    "        Fuel_cost_cor[0,(j-1)*No_techn*4+i-1] = Fuel_cost[0,(j-1)*No_techn+i-1]\n"
   ]
  },
  {
   "cell_type": "code",
   "execution_count": 39,
   "metadata": {},
   "outputs": [],
   "source": [
    "# Discount rate\n",
    "Discount_rate_uniform = 3.5\n",
    "Discount_rate = Discount_rate_uniform * np.ones((1,No_slices*No_techn))\n",
    "\n",
    "# Discount factor\n",
    "Discount_factor_short = np.zeros((1,(No_techn*No_slices)))\n",
    "\n",
    "for j in range(1,No_slices+1): # for all the time slices\n",
    "    for i in range(1,No_techn+1):\n",
    "        \n",
    "        Discount_factor_short[0,(j-1)*No_techn+i-1] = 0\n",
    "        \n",
    "        for l in range(1,2):\n",
    "            Discount_factor_short[0,(j-1)*No_techn+i-1] = Discount_factor_short[0,(j-1)*No_techn+i-1] + 1/np.power(1+Discount_rate[0,(j-1)*No_techn+i-1]/100, ((j-1)+l-1))\n",
    "        \n",
    "        Discount_factor_short[0,(j-1)*No_techn+i-1] = Discount_factor_short[0,(j-1)*No_techn+i-1]\n",
    "\n",
    "# Matrix with the discount factors for the evaluation of present value\n",
    "Discount_factor = np.zeros((1,No_var))\n",
    "\n",
    "for j in range(1,No_slices+1):\n",
    "    for l in range(1,4+1):\n",
    "        for i in range(1,No_techn+1):\n",
    "            Discount_factor[0,(j-1)*No_techn*4+i+(l-1)*No_techn-1] = Discount_factor_short[0,(j-1)*No_techn+i-1]\n"
   ]
  },
  {
   "cell_type": "code",
   "execution_count": 40,
   "metadata": {},
   "outputs": [],
   "source": [
    "# Calculation of the present value of total costs\n",
    "PV_Inv = np.multiply(Discount_factor, Inv_cor)\n",
    "PV_Fixed_OM = np.multiply(Discount_factor, Fixed_OM)\n",
    "PV_Variable_OM = np.multiply(Discount_factor, Variable_OM_cor)\n",
    "PV_Fuel_cost = np.multiply(Discount_factor, Fuel_cost_cor)\n",
    "PV_total_cost = PV_Inv + PV_Fixed_OM + PV_Variable_OM + PV_Fuel_cost"
   ]
  },
  {
   "cell_type": "code",
   "execution_count": 41,
   "metadata": {},
   "outputs": [
    {
     "name": "stdout",
     "output_type": "stream",
     "text": [
      "Optimization terminated successfully.\n",
      "Objective value:  1065275.18357321\n"
     ]
    }
   ],
   "source": [
    "# Cost optimization\n",
    "res = linprog(PV_total_cost, A_ub=Aineq, b_ub=bineq, A_eq=Aeq, b_eq=beq, bounds=bb, method='revised simplex')\n",
    "print(res.message)\n",
    "print('Objective value: ', res.fun)"
   ]
  },
  {
   "cell_type": "markdown",
   "metadata": {},
   "source": [
    "### Real-world deviation from the cost-optimal solution"
   ]
  },
  {
   "cell_type": "code",
   "execution_count": 42,
   "metadata": {},
   "outputs": [
    {
     "data": {
      "text/plain": [
       "0.0"
      ]
     },
     "execution_count": 42,
     "metadata": {},
     "output_type": "execute_result"
    }
   ],
   "source": [
    "Initial_generation[5]"
   ]
  },
  {
   "cell_type": "code",
   "execution_count": 43,
   "metadata": {},
   "outputs": [],
   "source": [
    "# Actual annual generated electricity 2007-2017, GWh/year \n",
    "#                         Nuc    Hy     PV   Wind  Bio Gas\n",
    "Actual_generation_annual=[Initial_generation[0],\n",
    "                          Initial_generation[1],\n",
    "                          Initial_generation[2],\n",
    "                          Initial_generation[3],\n",
    "                          Initial_generation[4],\n",
    "                          Initial_generation[5], #2007\n",
    "                          1050,   2200,   0,    0,    40,   124, #2008\n",
    "                          980,    2000,   0,    50,   80,   162, #2009 \n",
    "                          920,    2300,   0,    100,  120,  161, #2010\n",
    "                          820,    2350,   50,   150,  140,  148, #2011\n",
    "                          710,    2190,   100,  200,  160,  222, #2012\n",
    "                          590,    2250,   150,  220,  180,  224, #2013\n",
    "                          405,    2370,   250,  240,  200,  127, #2014\n",
    "                          220,    2400,   300,  260,  220,  312, #2015\n",
    "                          0,      2400,   320,  280,  240,  460, #2016\n",
    "                          0,      2400,   350,  300,  260,  370] #2017\n",
    "                      \n",
    "# Newly installed capacity 2007-2017, MW \n",
    "#                    Nuc  Hy  PV  Wind  Bio Gas\n",
    "Actual_new_capacity=[0,   0,  0,   0,   0,  0,  #2007\n",
    "                     0,   0,  0,   0,   5,  0,  #2008\n",
    "                     0,   0,  0,   25,  5,  10, #2009\n",
    "                     0,   0,  0,   25,  8,  0,  #2010\n",
    "                     -50, 0,  50,  30,  2,  0,  #2011\n",
    "                     0,   0,  45,  20,  2,  10, #2012\n",
    "                     0,   0,  45,  15,  4,  0,  #2013\n",
    "                     -50, 0,  100, 10,  2,  0,  #2014\n",
    "                     0,   0,  45,  10,  4,  20, #2015\n",
    "                     -50, 0,  15,  10,  2,  30, #2016\n",
    "                     0,   0,  30,  10,  3,  0]  #2017\n",
    "                 \n",
    "# Actual installed capacity 1990-2014, MW \n",
    "#                   Nuc  Hy   PV   Wind  Bio    Gas\n",
    "Actual_total_capacity=[Initial_capacity[0],\n",
    "                       Initial_capacity[1],\n",
    "                       Initial_capacity[2],\n",
    "                       Initial_capacity[3],\n",
    "                       Initial_capacity[4],\n",
    "                       Initial_capacity[5], #2007\n",
    "                       150,  800,  0,    0,    5,    30,  #2008\n",
    "                       150,  800,  0,    25,   10,   40,  #2009\n",
    "                       150,  800,  0,    50,   18,   40,  #2010\n",
    "                       100,  800,  50,   80,   20,   40,  #2011\n",
    "                       100,  800,  95,   100,  22,   50,  #2012\n",
    "                       100,  800,  140,  115,  26,   50,  #2013\n",
    "                       50,   800,  240,  125,  28,   50,  #2014\n",
    "                       50,   800,  285,  135,  32,   70,  #2015\n",
    "                       0,    800,  300,  145,  34,   100, #2016\n",
    "                       0,    800,  330,  155,  37,   100] #2017\n",
    "\n",
    "# Actual transition\n",
    "\n",
    "Actual_transition = np.zeros((1,No_var))\n",
    "\n",
    "for j in range(1,No_slices+1):\n",
    "    for i in range(1,No_techn+1):\n",
    "        Actual_transition[0,(j-1)*No_techn*4+i-1]=Actual_generation_annual[(j-1)*No_techn+i-1]\n",
    "        Actual_transition[0,(j-1)*No_techn*4+i+No_techn*1-1]=Actual_total_capacity[(j-1)*No_techn+i-1]\n",
    "        Actual_transition[0,(j-1)*No_techn*4+i+No_techn*2-1]=Actual_new_capacity[(j-1)*No_techn+i-1]"
   ]
  },
  {
   "cell_type": "markdown",
   "metadata": {},
   "source": [
    "### Figures"
   ]
  },
  {
   "cell_type": "code",
   "execution_count": 44,
   "metadata": {},
   "outputs": [],
   "source": [
    "import seaborn as sns\n",
    "import matplotlib.pyplot as plt"
   ]
  },
  {
   "cell_type": "code",
   "execution_count": 45,
   "metadata": {},
   "outputs": [],
   "source": [
    "sns.set()"
   ]
  },
  {
   "cell_type": "code",
   "execution_count": 46,
   "metadata": {},
   "outputs": [],
   "source": [
    "# Convert cost-optimal result to pandas dataframe, GWh\n",
    "cost_opt = res.x\n",
    "\n",
    "Solution_mod = np.zeros((No_slices,No_techn))\n",
    "for j in range(1,No_slices+1):\n",
    "    for i in range(1,No_techn+1):\n",
    "        Solution_mod[j-1,i-1]=cost_opt[(j-1)*No_techn*4+i-1]\n",
    "\n",
    "cost_opt_GWh = pd.DataFrame(data=Solution_mod, columns=Techn, index=Slices)"
   ]
  },
  {
   "cell_type": "code",
   "execution_count": 47,
   "metadata": {},
   "outputs": [],
   "source": [
    "# Convert cost-optimal result to pandas dataframe, MW\n",
    "Solution_mod = np.zeros((No_slices,No_techn))\n",
    "for j in range(1,No_slices+1):\n",
    "    for i in range(1,No_techn+1):\n",
    "        Solution_mod[j-1,i-1]=cost_opt[(j-1)*No_techn*4+i+No_techn*1-1]\n",
    "\n",
    "cost_opt_MW = pd.DataFrame(data=Solution_mod, columns=Techn, index=Slices)"
   ]
  },
  {
   "cell_type": "code",
   "execution_count": 48,
   "metadata": {},
   "outputs": [],
   "source": [
    "# Convert actual transition to pandas dataframe, GWh\n",
    "Solution_mod = np.zeros((No_slices,No_techn))\n",
    "for j in range(1,No_slices+1):\n",
    "    for i in range(1,No_techn+1):\n",
    "        Solution_mod[j-1,i-1] = Actual_transition[0,(j-1)*No_techn*4+i-1]\n",
    "\n",
    "Actual_transition_GWh = pd.DataFrame(data=Solution_mod, columns=Techn, index=Slices)"
   ]
  },
  {
   "cell_type": "code",
   "execution_count": 49,
   "metadata": {},
   "outputs": [],
   "source": [
    "# Convert actual transition to pandas dataframe, MW\n",
    "Solution_mod = np.zeros((No_slices,No_techn))\n",
    "for j in range(1,No_slices+1):\n",
    "    for i in range(1,No_techn+1):\n",
    "        Solution_mod[j-1,i-1] = Actual_transition[0,(j-1)*No_techn*4+i+No_techn*1-1]\n",
    "\n",
    "Actual_transition_MW = pd.DataFrame(data=Solution_mod, columns=Techn, index=Slices)"
   ]
  },
  {
   "cell_type": "code",
   "execution_count": 51,
   "metadata": {},
   "outputs": [
    {
     "data": {
      "image/png": "[encoded data removed]",
      "text/plain": [
       "<Figure size 972x720 with 4 Axes>"
      ]
     },
     "metadata": {},
     "output_type": "display_data"
    }
   ],
   "source": [
    "# Plot the figure\n",
    "fig, ((ax1, ax2), (ax3, ax4)) = plt.subplots(2, 2, figsize=(13.5, 10))\n",
    "\n",
    "Actual_transition_GWh.plot(ax = ax1,\n",
    "                       kind='bar', \n",
    "                       stacked=True, \n",
    "                       color=['brown', 'royalblue', 'yellow', 'purple', 'green', 'orange'])\n",
    "\n",
    "ax1.set_ylabel(\"GWh\")\n",
    "ax1.set_title(\"Real-world transition\")\n",
    "\n",
    "cost_opt_GWh.plot(ax = ax2,\n",
    "              kind='bar', \n",
    "              stacked=True, \n",
    "              color=['brown', 'royalblue', 'yellow', 'purple', 'green', 'orange'])\n",
    "\n",
    "ax2.set_ylabel(\"GWh\")\n",
    "ax2.set_title(\"Cost-optimal solution\")\n",
    "\n",
    "Actual_transition_MW.plot(ax = ax3,\n",
    "                       kind='bar', \n",
    "                       stacked=True, \n",
    "                       color=['brown', 'royalblue', 'yellow', 'purple', 'green', 'orange'])\n",
    "\n",
    "ax3.set_ylabel(\"MW\")\n",
    "ax3.set_title(\"Real-world transition\")\n",
    "\n",
    "cost_opt_MW.plot(ax = ax4,\n",
    "              kind='bar', \n",
    "              stacked=True, \n",
    "              color=['brown', 'royalblue', 'yellow', 'purple', 'green', 'orange'])\n",
    "\n",
    "ax4.set_ylabel(\"MW\")\n",
    "ax4.set_title(\"Cost-optimal solution\")\n",
    "\n",
    "# Finalize the plot\n",
    "sns.despine(bottom=True)\n",
    "plt.setp(fig.axes, yticks=[])\n",
    "plt.tight_layout(h_pad=2)\n",
    "plt.savefig('Result.pdf')"
   ]
  },
  {
   "cell_type": "code",
   "execution_count": null,
   "metadata": {},
   "outputs": [],
   "source": []
  }
 ],
 "metadata": {
  "kernelspec": {
   "display_name": "Python 3",
   "language": "python",
   "name": "python3"
  },
  "language_info": {
   "codemirror_mode": {
    "name": "ipython",
    "version": 3
   },
   "file_extension": ".py",
   "mimetype": "text/x-python",
   "name": "python",
   "nbconvert_exporter": "python",
   "pygments_lexer": "ipython3",
   "version": "3.6.6"
  }
 },
 "nbformat": 4,
 "nbformat_minor": 4
}
